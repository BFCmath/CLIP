{
 "cells": [
  {
   "cell_type": "code",
   "execution_count": 1,
   "metadata": {},
   "outputs": [],
   "source": [
    "import cv2\n",
    "import os\n"
   ]
  },
  {
   "cell_type": "code",
   "execution_count": 2,
   "metadata": {},
   "outputs": [],
   "source": [
    "\n",
    "# Set the path for the video file and output directory\n",
    "video_path = 'videos/L27_V001.mp4'\n",
    "output_dir = 'frames'\n",
    "\n",
    "# Create the output directory if it doesn't exist\n",
    "if not os.path.exists(output_dir):\n",
    "    os.makedirs(output_dir)\n",
    "\n"
   ]
  },
  {
   "cell_type": "code",
   "execution_count": 6,
   "metadata": {},
   "outputs": [
    {
     "name": "stdout",
     "output_type": "stream",
     "text": [
      "Processed 100 frames...\n",
      "Processed 200 frames...\n",
      "Processed 300 frames...\n",
      "Processed 400 frames...\n",
      "Processed 500 frames...\n",
      "Processed 600 frames...\n",
      "Processed 700 frames...\n",
      "Processed 800 frames...\n",
      "Processed 900 frames...\n",
      "Processed 1000 frames...\n",
      "Extracted 1001 frames.\n"
     ]
    }
   ],
   "source": [
    "\n",
    "# Open the video file\n",
    "video_capture = cv2.VideoCapture(video_path)\n",
    "\n",
    "# Initialize the frame count\n",
    "frame_count = 0\n",
    "\n",
    "while True:\n",
    "    # Read the next frame\n",
    "    success, frame = video_capture.read()\n",
    "    if not success:\n",
    "        break\n",
    "\n",
    "    # Save the frame as an image file\n",
    "    frame_filename = os.path.join(output_dir, f'frame_{frame_count:04d}.png')\n",
    "    cv2.imwrite(frame_filename, frame)\n",
    "\n",
    "    # Increment the frame count\n",
    "    frame_count += 1\n",
    "    if(frame_count % 100 == 0):\n",
    "        print(f'Processed {frame_count} frames...')\n",
    "    if(frame_count > 1000):\n",
    "        break\n",
    "\n",
    "# Release the video capture object\n",
    "video_capture.release()\n",
    "\n",
    "print(f'Extracted {frame_count} frames.')"
   ]
  },
  {
   "cell_type": "code",
   "execution_count": 8,
   "metadata": {},
   "outputs": [
    {
     "name": "stdout",
     "output_type": "stream",
     "text": [
      "Extracted frames from 603 to 626 and saved to videos/police.avi\n"
     ]
    }
   ],
   "source": [
    "def extract_and_save_frames(input_video_path, output_video_path, start_frame, end_frame):\n",
    "    # Open the input video file\n",
    "    video_capture = cv2.VideoCapture(input_video_path)\n",
    "    \n",
    "    # Get the video properties\n",
    "    fps = video_capture.get(cv2.CAP_PROP_FPS)\n",
    "    width = int(video_capture.get(cv2.CAP_PROP_FRAME_WIDTH))\n",
    "    height = int(video_capture.get(cv2.CAP_PROP_FRAME_HEIGHT))\n",
    "    \n",
    "    # Define the codec and create VideoWriter object\n",
    "    fourcc = cv2.VideoWriter_fourcc(*'XVID')  # You can change 'XVID' to other codecs like 'DIVX', 'MJPG', etc.\n",
    "    output_video = cv2.VideoWriter(output_video_path, fourcc, fps, (width, height))\n",
    "    \n",
    "    # Initialize the frame counter\n",
    "    frame_count = 0\n",
    "    \n",
    "    while True:\n",
    "        # Read the next frame\n",
    "        success, frame = video_capture.read()\n",
    "        if not success:\n",
    "            break\n",
    "        \n",
    "        # Check if the current frame is within the desired range\n",
    "        if start_frame <= frame_count <= end_frame:\n",
    "            # Write the frame to the output video\n",
    "            output_video.write(frame)\n",
    "        \n",
    "        # Increment the frame counter\n",
    "        frame_count += 1\n",
    "        \n",
    "        # Break the loop if we have processed the desired frames\n",
    "        if frame_count > end_frame:\n",
    "            break\n",
    "    \n",
    "    # Release the video capture and writer objects\n",
    "    video_capture.release()\n",
    "    output_video.release()\n",
    "    print(f'Extracted frames from {start_frame} to {end_frame} and saved to {output_video_path}')\n",
    "\n",
    "# Example usage\n",
    "input_video_path = 'videos/L27_V001.mp4'\n",
    "output_video_path = 'videos/police.avi'\n",
    "start_frame = 603  # Replace with your start frame index\n",
    "end_frame = 626   # Replace with your end frame index\n",
    "\n",
    "extract_and_save_frames(input_video_path, output_video_path, start_frame, end_frame)\n"
   ]
  }
 ],
 "metadata": {
  "kernelspec": {
   "display_name": "base",
   "language": "python",
   "name": "python3"
  },
  "language_info": {
   "codemirror_mode": {
    "name": "ipython",
    "version": 3
   },
   "file_extension": ".py",
   "mimetype": "text/x-python",
   "name": "python",
   "nbconvert_exporter": "python",
   "pygments_lexer": "ipython3",
   "version": "3.11.9"
  }
 },
 "nbformat": 4,
 "nbformat_minor": 2
}
